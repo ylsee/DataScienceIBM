{
 "cells": [
  {
   "cell_type": "markdown",
   "id": "5d4dbf53",
   "metadata": {},
   "source": [
    "# Data Science Tools and Ecosystem"
   ]
  },
  {
   "cell_type": "markdown",
   "id": "b7d6eb75",
   "metadata": {},
   "source": [
    "## Author\n",
    "Ying Ling See"
   ]
  },
  {
   "cell_type": "markdown",
   "id": "77acfb0c",
   "metadata": {},
   "source": [
    "**Objectives:**\n",
    "- List popular langauges in data science\n",
    "- List common libraries\n",
    "- Examples of arithmetic expressions"
   ]
  },
  {
   "cell_type": "markdown",
   "id": "d07d8a83",
   "metadata": {},
   "source": [
    "In this notebook, Data Science Tools and Ecosystem are summarized."
   ]
  },
  {
   "cell_type": "markdown",
   "id": "c5b05354",
   "metadata": {},
   "source": [
    "Some of the popular languages that Data Scientists use are: \n",
    "1. SQL\n",
    "2. Python \n",
    "3. R"
   ]
  },
  {
   "cell_type": "markdown",
   "id": "48c2b9a4",
   "metadata": {},
   "source": [
    "Some of the commonly used libraries used by Data Scientists include:\n",
    " 1. pandas\n",
    " 2. numpy \n",
    " 3. sklearn"
   ]
  },
  {
   "cell_type": "markdown",
   "id": "e697c09a",
   "metadata": {},
   "source": [
    "| Data Science Tools|\n",
    "| -------------| \n",
    "|  RStudio | \n",
    "| Spyder | \n",
    "| Anaconda | "
   ]
  },
  {
   "cell_type": "markdown",
   "id": "8e2a70ad",
   "metadata": {},
   "source": [
    "### Below are a few examples of evaluating arithmetic expressions in Python"
   ]
  },
  {
   "cell_type": "code",
   "execution_count": 3,
   "id": "a79fc7d4",
   "metadata": {},
   "outputs": [
    {
     "data": {
      "text/plain": [
       "17"
      ]
     },
     "execution_count": 3,
     "metadata": {},
     "output_type": "execute_result"
    }
   ],
   "source": [
    "#This a simple arithmetic expression to mutiply then add integers\n",
    "(3*4)+5"
   ]
  },
  {
   "cell_type": "code",
   "execution_count": 4,
   "id": "77b863be",
   "metadata": {},
   "outputs": [
    {
     "data": {
      "text/plain": [
       "3.3333333333333335"
      ]
     },
     "execution_count": 4,
     "metadata": {},
     "output_type": "execute_result"
    }
   ],
   "source": [
    "#This will convert 200 minutes to hours by diving by 60.\n",
    "200/60"
   ]
  },
  {
   "cell_type": "code",
   "execution_count": null,
   "id": "ea7e425b",
   "metadata": {},
   "outputs": [],
   "source": []
  }
 ],
 "metadata": {
  "kernelspec": {
   "display_name": "Python 3 (ipykernel)",
   "language": "python",
   "name": "python3"
  },
  "language_info": {
   "codemirror_mode": {
    "name": "ipython",
    "version": 3
   },
   "file_extension": ".py",
   "mimetype": "text/x-python",
   "name": "python",
   "nbconvert_exporter": "python",
   "pygments_lexer": "ipython3",
   "version": "3.9.13"
  }
 },
 "nbformat": 4,
 "nbformat_minor": 5
}
